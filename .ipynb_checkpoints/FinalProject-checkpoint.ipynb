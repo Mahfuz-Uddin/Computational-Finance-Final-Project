{
 "cells": [
  {
   "cell_type": "markdown",
   "metadata": {},
   "source": [
    "## CSCI 365/765 Final Project"
   ]
  },
  {
   "cell_type": "markdown",
   "metadata": {},
   "source": [
    "## Due Date: 6/29 before mid-night"
   ]
  },
  {
   "cell_type": "markdown",
   "metadata": {},
   "source": [
    "### Instructor: Alex Pang, Summer 2021\n",
    "### Group Name: Team Rocket\n",
    "### Members Name: Tanzina Eisha, Richard Lin, Mahfuz Uddin"
   ]
  },
  {
   "cell_type": "code",
   "execution_count": 2,
   "metadata": {},
   "outputs": [],
   "source": [
    "import pandas as pd\n",
    "import numpy as np\n",
    "import datetime\n",
    "from math import log, exp, sqrt, pow"
   ]
  },
  {
   "cell_type": "code",
   "execution_count": 3,
   "metadata": {},
   "outputs": [],
   "source": [
    "# import all classes\n",
    "from stock import Stock\n",
    "from option import *\n",
    "from binomial_model import BinomialModel\n",
    "from blackscholes_model import BlackScholesModel\n",
    "from discount_cf_model import DiscountedCashFlowModel"
   ]
  },
  {
   "cell_type": "code",
   "execution_count": 4,
   "metadata": {},
   "outputs": [],
   "source": [
    "# example pricing_date and risk free rate\n",
    "pricing_date = datetime.date(2021, 6, 1)\n",
    "risk_free_rate = 0.04"
   ]
  },
  {
   "cell_type": "markdown",
   "metadata": {},
   "source": [
    "### Question 1 (Problem 13.5 of the textbook modified)"
   ]
  },
  {
   "cell_type": "markdown",
   "metadata": {},
   "source": [
    "### A stock price is currently 100. Over each of the next two six-month periods it is expected to go up by 10% (i.e. by a multiple factor of u = 1.1) or down by a multiple factor of d where d = 1/u. The risk-free interest rate is 8% per annum with continuous compounding. What is the value of a one-year European call option with a strike price of 100 using Binomial Model? "
   ]
  },
  {
   "cell_type": "markdown",
   "metadata": {},
   "source": [
    "**Type your code below**"
   ]
  },
  {
   "cell_type": "code",
   "execution_count": 5,
   "metadata": {},
   "outputs": [
    {
     "name": "stdout",
     "output_type": "stream",
     "text": [
      "9.228371548345109\n"
     ]
    }
   ],
   "source": [
    "symbol = ''\n",
    "pricing_date = datetime.date(2021, 6, 1)\n",
    "risk_free_rate = 0.08\n",
    "model = BinomialModel(pricing_date, risk_free_rate)\n",
    "T = 1\n",
    "num_period = 2\n",
    "S0 = 100\n",
    "K = 100\n",
    "u = 1.1\n",
    "dt = T / num_period\n",
    "sigma = log(u) / sqrt(dt)\n",
    "\n",
    "stock = Stock(symbol, S0, sigma)\n",
    "call = EuropeanCallOption(stock, T, K)\n",
    "model_price = model.calc_model_price(call, num_period)\n",
    "\n",
    "print(model_price)"
   ]
  },
  {
   "cell_type": "markdown",
   "metadata": {},
   "source": [
    "### Question 2. Using the same assumption from Question 1. Calculate the European Put option with the same strike and expiry using Binomial Tree. Calculate also implied put price from the call price using Put-Call parity and the implied call price from the put price. Does Put-Call Parity hold for Binomial trees?"
   ]
  },
  {
   "cell_type": "markdown",
   "metadata": {},
   "source": [
    "**Type your code and answer below**"
   ]
  },
  {
   "cell_type": "code",
   "execution_count": 6,
   "metadata": {
    "scrolled": true
   },
   "outputs": [
    {
     "name": "stdout",
     "output_type": "stream",
     "text": [
      "Put price: 1.5400061870086883\n",
      "Call price: 9.228371548345109\n",
      "Implied Put Price: 1.5400061870086859\n",
      "Implied Call Price: 9.228371548345109\n",
      "Does Put-Call Parity hold for Binomial Trees? The equation is c + Ke^(-rT) = p + S0\n",
      "Left hand side: 101.54000618700869\n",
      "Right hand side: 101.54000618700869\n",
      "Yes, Put-Call Parity holds for Binomail Trees\n"
     ]
    }
   ],
   "source": [
    "symbol = ''\n",
    "pricing_date = datetime.date(2021, 6, 1)\n",
    "risk_free_rate = 0.08\n",
    "model = BinomialModel(pricing_date, risk_free_rate)\n",
    "T = 1\n",
    "num_period = 2\n",
    "S0 = 100\n",
    "K = 100\n",
    "u = 1.1\n",
    "dt = T / num_period\n",
    "sigma = log(u) / sqrt(dt)\n",
    "\n",
    "stock = Stock(symbol, S0, sigma)\n",
    "put = EuropeanPutOption(stock, T, K)\n",
    "call = EuropeanCallOption(stock, T, K)\n",
    "model_price = model.calc_model_price(put, num_period)\n",
    "model_price_call = model.calc_model_price(call, num_period)\n",
    "print(\"Put price:\", model_price)\n",
    "\n",
    "\n",
    "# Put-Call Parity\n",
    "\n",
    "# Call Price\n",
    "print(\"Call price:\" ,model_price_call)\n",
    "\n",
    "# Implied Put Price\n",
    "print(\"Implied Put Price:\", model.calc_parity_price(call, model_price_call))\n",
    "\n",
    "# Implied Call Price\n",
    "print(\"Implied Call Price:\", model.calc_parity_price(put, model_price))\n",
    "\n",
    "# Does Put-Call Parity hold for Binomial Trees?\n",
    "print(\"Does Put-Call Parity hold for Binomial Trees? The equation is c + Ke^(-rT) = p + S0\")\n",
    "print(\"Left hand side:\" , model_price_call + (K * exp(-risk_free_rate)))\n",
    "print(\"Right hand side:\", model_price+S0)\n",
    "print(\"Yes, Put-Call Parity holds for Binomail Trees\")\n",
    "\n"
   ]
  },
  {
   "cell_type": "markdown",
   "metadata": {},
   "source": [
    "### Question 3  (Problem 13.17 of the textbook) "
   ]
  },
  {
   "cell_type": "markdown",
   "metadata": {},
   "source": [
    "### A stock index is currently 1,500. Its volatility is 18%. The risk-free rate is 4% per annum (continuously compounded) for all maturities and the dividend yield on the index is 2.5%. What is the value a 12-month American put option with a strike price of 1,480 given by a two-step binomial tree."
   ]
  },
  {
   "cell_type": "markdown",
   "metadata": {},
   "source": [
    "**Type your answer below**"
   ]
  },
  {
   "cell_type": "code",
   "execution_count": 7,
   "metadata": {},
   "outputs": [
    {
     "name": "stdout",
     "output_type": "stream",
     "text": [
      "12-Month American Put Option Price: 78.4137177695263\n"
     ]
    }
   ],
   "source": [
    "symbol = ''\n",
    "pricing_date = datetime.date(2021, 6, 1)\n",
    "risk_free_rate = 0.04\n",
    "model = BinomialModel(pricing_date, risk_free_rate)\n",
    "T = 1\n",
    "num_period = 2\n",
    "S0 = 1500\n",
    "K = 1480\n",
    "sigma = 0.18\n",
    "q = 0.025 # Dividend Yield\n",
    "\n",
    "stock = Stock(symbol, S0, sigma, q)\n",
    "put = AmericanPutOption(stock, T, K)\n",
    "model_price = model.calc_model_price(put, num_period)\n",
    "\n",
    "print(\"12-Month American Put Option Price:\", model_price)"
   ]
  },
  {
   "cell_type": "markdown",
   "metadata": {},
   "source": [
    "### Question 4 (Problem 13.18 of the textbook)"
   ]
  },
  {
   "cell_type": "markdown",
   "metadata": {},
   "source": [
    "### The futures price of a commodity is 90.  Use a three-step Binomial tree to value (a) a nine-month American call option with strike price \\$93 and (b) a nine-month American put option with strike price 93. The volatility is 28% and the risk-free rate (all maturities) is 3% with continuous compounding"
   ]
  },
  {
   "cell_type": "markdown",
   "metadata": {},
   "source": [
    "**Type your code below**"
   ]
  },
  {
   "cell_type": "code",
   "execution_count": 8,
   "metadata": {},
   "outputs": [
    {
     "name": "stdout",
     "output_type": "stream",
     "text": [
      "American Call: 8.911449522816081\n",
      "American Put: 10.019071364502532\n"
     ]
    }
   ],
   "source": [
    "symbol = ''\n",
    "pricing_date = datetime.date(2021, 6, 1)\n",
    "risk_free_rate = 0.03\n",
    "model = BinomialModel(pricing_date, risk_free_rate)\n",
    "T = 9/12\n",
    "num_period = 3\n",
    "S0 = 90\n",
    "K = 93\n",
    "sigma = 0.28\n",
    "\n",
    "stock = Stock(symbol, S0, sigma)\n",
    "put = AmericanPutOption(stock, T, K)\n",
    "call = AmericanCallOption(stock, T, K)\n",
    "model_price = model.calc_model_price(put, num_period)\n",
    "model_price_call = model.calc_model_price(call, num_period)\n",
    "\n",
    "print(\"American Call:\",model_price_call)\n",
    "print(\"American Put:\",model_price)"
   ]
  },
  {
   "cell_type": "markdown",
   "metadata": {},
   "source": [
    "### Question 5 (Problem 15.4 of the textbook)"
   ]
  },
  {
   "cell_type": "markdown",
   "metadata": {},
   "source": [
    "### Calculate the price of a three-month European put option on a non-dividend-paying stock with a strike price of 50 when the current stock price is 50, the risk-free interest rate is 10% per annum, and the volatility is 30% per annum using Black-Scholes Model "
   ]
  },
  {
   "cell_type": "markdown",
   "metadata": {},
   "source": [
    "**Type your code and answer below**"
   ]
  },
  {
   "cell_type": "code",
   "execution_count": 9,
   "metadata": {},
   "outputs": [
    {
     "name": "stdout",
     "output_type": "stream",
     "text": [
      "Price:  2.3759406675006467\n"
     ]
    }
   ],
   "source": [
    "symbol= \"\"\n",
    "pricing_date = datetime.date(2021, 6, 1)\n",
    "risk_free_rate = 0.10\n",
    "model = BlackScholesModel(pricing_date, risk_free_rate)\n",
    "T = 3 / 12\n",
    "S0 = 50\n",
    "K = 50\n",
    "\n",
    "sigma = 0.3\n",
    "stock = Stock(symbol, S0, sigma)\n",
    "\n",
    "call = EuropeanPutOption(stock, T, K)\n",
    "\n",
    "model_price = model.calc_model_price(call)\n",
    "\n",
    "print('Price: ', model_price)"
   ]
  },
  {
   "cell_type": "markdown",
   "metadata": {},
   "source": [
    "### Question 6. Calculate the same call and put from Question 4, but assume European style and use Black-Scholes Model. Calculate also the European Call using the same assumptions as the put in Q5"
   ]
  },
  {
   "cell_type": "markdown",
   "metadata": {},
   "source": [
    "**Type your code and answer below**"
   ]
  },
  {
   "cell_type": "code",
   "execution_count": 10,
   "metadata": {},
   "outputs": [
    {
     "name": "stdout",
     "output_type": "stream",
     "text": [
      "Call Price:  8.27247167207019\n",
      "Put Price: 9.20333673105047\n"
     ]
    }
   ],
   "source": [
    "symbol= \"\"\n",
    "pricing_date = datetime.date(2021, 6, 1)\n",
    "risk_free_rate = 0.03\n",
    "model = BlackScholesModel(pricing_date, risk_free_rate)\n",
    "T = 9 / 12\n",
    "S0 = 90\n",
    "K = 93\n",
    "\n",
    "sigma = 0.28\n",
    "stock = Stock(symbol, S0, sigma)\n",
    "\n",
    "call = EuropeanCallOption(stock, T, K)\n",
    "put= EuropeanPutOption(stock, T, K)\n",
    "\n",
    "call_model_price = model.calc_model_price(call)\n",
    "put_model_price = model.calc_model_price(put)\n",
    "\n",
    "print('Call Price: ', call_model_price) \n",
    "print('Put Price:', put_model_price )"
   ]
  },
  {
   "cell_type": "markdown",
   "metadata": {},
   "source": [
    "### Question 7 (Problem 19.3 of the textbook)"
   ]
  },
  {
   "cell_type": "markdown",
   "metadata": {},
   "source": [
    "### Calculate the delta of an at-the-money six-month European call option on a non-dividend-paying stock when the risk-free interest rate is 10% per annum and the stock price volatility is 25% per annum. "
   ]
  },
  {
   "cell_type": "markdown",
   "metadata": {},
   "source": [
    "**Type your code here**"
   ]
  },
  {
   "cell_type": "code",
   "execution_count": 13,
   "metadata": {},
   "outputs": [
    {
     "name": "stdout",
     "output_type": "stream",
     "text": [
      "delta:  0.6447672796293542\n"
     ]
    }
   ],
   "source": [
    "symbol = ''\n",
    "pricing_date = datetime.date(2021, 6, 1)\n",
    "risk_free_rate = 0.1\n",
    "model = BlackScholesModel(pricing_date, risk_free_rate)\n",
    "T = 6 / 12\n",
    "num_period = 2\n",
    "dt = T / num_period\n",
    "S0 = 100\n",
    "K = 100\n",
    "sigma = 0.25\n",
    "stock = Stock(symbol, S0, sigma)\n",
    "call = EuropeanCallOption(stock, T, K)\n",
    "delta = model.calc_delta(call)\n",
    "\n",
    "print('delta: ', delta)"
   ]
  },
  {
   "cell_type": "markdown",
   "metadata": {},
   "source": [
    "### Question 8. Calculate the gamma, theta, vega and rho of the same European call option in Question 7"
   ]
  },
  {
   "cell_type": "markdown",
   "metadata": {},
   "source": [
    "**Type your code here**"
   ]
  },
  {
   "cell_type": "code",
   "execution_count": 12,
   "metadata": {},
   "outputs": [
    {
     "name": "stdout",
     "output_type": "stream",
     "text": [
      "Gamma:  0.021064902379923867\n",
      "Theta:  -12.072231283969437\n",
      "Vega:  26.331127974904835\n",
      "Rho 27.44724645121614\n"
     ]
    }
   ],
   "source": [
    "symbol = ''\n",
    "pricing_date = datetime.date(2021, 6, 1)\n",
    "risk_free_rate =0.10\n",
    "T = 6 / 12\n",
    "S0 = 100\n",
    "K = 100\n",
    "sigma = 0.25\n",
    "\n",
    "model = BlackScholesModel(pricing_date, risk_free_rate)\n",
    "stock = Stock(symbol, S0, sigma)\n",
    "\n",
    "call = EuropeanCallOption(stock, T, K)\n",
    "\n",
    "gamma = model.calc_gamma(call)\n",
    "theta = model.calc_theta(call)\n",
    "vega = model.calc_vega(call)\n",
    "rho = model.calc_rho(call)\n",
    "\n",
    "print('Gamma: ', gamma)\n",
    "print('Theta: ', theta)\n",
    "print('Vega: ', vega)\n",
    "print('Rho', rho)\n",
    "  "
   ]
  },
  {
   "cell_type": "markdown",
   "metadata": {},
   "source": [
    "### Question 9: (Optional for undergraduate) Plot the graph of Delta, Gamma, Theta, Vega and Rho for the Call Option described in Question 7"
   ]
  }
 ],
 "metadata": {
  "kernelspec": {
   "display_name": "Python 3",
   "language": "python",
   "name": "python3"
  },
  "language_info": {
   "codemirror_mode": {
    "name": "ipython",
    "version": 3
   },
   "file_extension": ".py",
   "mimetype": "text/x-python",
   "name": "python",
   "nbconvert_exporter": "python",
   "pygments_lexer": "ipython3",
   "version": "3.8.8"
  }
 },
 "nbformat": 4,
 "nbformat_minor": 2
}
